{
 "cells": [
  {
   "cell_type": "markdown",
   "id": "e1126091",
   "metadata": {},
   "source": [
    "Tuple:\n",
    "-->  It is a sequenceial datattype used to store collection of heteterogenous elements.\n",
    "--> It is ordered hence we can do indexing and slicing.\n",
    "--> It is immutable means it cannot be changed\n",
    "--> It is used for data security.\n",
    "--> Tuple also allow duplicate values.\n",
    "--> Tuple are fastewr than a list because there is no manipulation."
   ]
  },
  {
   "cell_type": "code",
   "execution_count": 1,
   "id": "233ae2a6",
   "metadata": {},
   "outputs": [
    {
     "name": "stdout",
     "output_type": "stream",
     "text": [
      "<class 'tuple'>\n"
     ]
    }
   ],
   "source": [
    "# Define a tuple.\n",
    "tupple = (2,)      # Using paranthesis\n",
    "print(type(tupple))\n"
   ]
  },
  {
   "cell_type": "code",
   "execution_count": 2,
   "id": "8d66ac16",
   "metadata": {},
   "outputs": [
    {
     "name": "stdout",
     "output_type": "stream",
     "text": [
      "<class 'tuple'>\n"
     ]
    }
   ],
   "source": [
    "tupple_2 = tuple(('a', 2,4.0,[2,3,4,5],True))  \n",
    "print(type(tupple_2))       #using constructor method"
   ]
  },
  {
   "cell_type": "code",
   "execution_count": 7,
   "id": "4cfd825e",
   "metadata": {},
   "outputs": [
    {
     "name": "stdout",
     "output_type": "stream",
     "text": [
      "<class 'tuple'>\n",
      "()\n"
     ]
    }
   ],
   "source": [
    "tupple_3 = tuple()        #creating an empty tuple\n",
    "print(type(tupple_3))\n",
    "print(tupple_3)"
   ]
  },
  {
   "cell_type": "code",
   "execution_count": 8,
   "id": "57f1c1fd",
   "metadata": {},
   "outputs": [
    {
     "data": {
      "text/plain": [
       "('a,', 2, 4.0, [2, 3, 4, 5], True)"
      ]
     },
     "execution_count": 8,
     "metadata": {},
     "output_type": "execute_result"
    }
   ],
   "source": [
    "tupple_2"
   ]
  },
  {
   "cell_type": "code",
   "execution_count": 9,
   "id": "7f3848bb",
   "metadata": {},
   "outputs": [],
   "source": [
    "tupple_2[3][2] = 'tuple'"
   ]
  },
  {
   "cell_type": "code",
   "execution_count": 10,
   "id": "10a84b15",
   "metadata": {},
   "outputs": [
    {
     "data": {
      "text/plain": [
       "('a,', 2, 4.0, [2, 3, 'tuple', 5], True)"
      ]
     },
     "execution_count": 10,
     "metadata": {},
     "output_type": "execute_result"
    }
   ],
   "source": [
    "tupple_2"
   ]
  },
  {
   "cell_type": "code",
   "execution_count": 13,
   "id": "cf395411",
   "metadata": {},
   "outputs": [
    {
     "data": {
      "text/plain": [
       "True"
      ]
     },
     "execution_count": 13,
     "metadata": {},
     "output_type": "execute_result"
    }
   ],
   "source": [
    "# slicing\n",
    "tupple_2[1:4]\n",
    "tupple_2[-1]"
   ]
  },
  {
   "cell_type": "code",
   "execution_count": 16,
   "id": "29738f0e",
   "metadata": {},
   "outputs": [
    {
     "ename": "NameError",
     "evalue": "name 'tupple_2' is not defined",
     "output_type": "error",
     "traceback": [
      "\u001b[1;31m---------------------------------------------------------------------------\u001b[0m",
      "\u001b[1;31mNameError\u001b[0m                                 Traceback (most recent call last)",
      "Cell \u001b[1;32mIn[16], line 2\u001b[0m\n\u001b[0;32m      1\u001b[0m \u001b[38;5;66;03m#To delete tupple\u001b[39;00m\n\u001b[1;32m----> 2\u001b[0m \u001b[38;5;28;01mdel\u001b[39;00m tupple_2\n\u001b[0;32m      3\u001b[0m tupple_2\n",
      "\u001b[1;31mNameError\u001b[0m: name 'tupple_2' is not defined"
     ]
    }
   ],
   "source": [
    "#To delete tupple\n",
    "del tupple_2\n",
    "tupple_2\n"
   ]
  },
  {
   "cell_type": "markdown",
   "id": "f1f5e34c",
   "metadata": {},
   "source": [
    "Access tupple element : We can use index .[.]. for accessing an item in tuuple where the index starts from 0. we can also use negative indexing fro accessing elements from right to left. Neggative indexing starts with -1."
   ]
  },
  {
   "cell_type": "code",
   "execution_count": 17,
   "id": "6a5ea375",
   "metadata": {},
   "outputs": [],
   "source": [
    "tupple_2 = (1,2,('a', 'b'), ((2,3,4),10.0))"
   ]
  },
  {
   "cell_type": "code",
   "execution_count": 18,
   "id": "ff9b7325",
   "metadata": {},
   "outputs": [
    {
     "data": {
      "text/plain": [
       "(1, 2, ('a', 'b'), ((2, 3, 4), 10.0))"
      ]
     },
     "execution_count": 18,
     "metadata": {},
     "output_type": "execute_result"
    }
   ],
   "source": [
    "tupple_2"
   ]
  },
  {
   "cell_type": "code",
   "execution_count": 19,
   "id": "a0564b24",
   "metadata": {},
   "outputs": [
    {
     "data": {
      "text/plain": [
       "3"
      ]
     },
     "execution_count": 19,
     "metadata": {},
     "output_type": "execute_result"
    }
   ],
   "source": [
    "tupple_2[3][0][1]"
   ]
  },
  {
   "cell_type": "markdown",
   "id": "a84f2d53",
   "metadata": {},
   "source": [
    "Modifying a tupple: It is not possible in tupples in tupples since they are immutable but if it has some mutable datatypes in it so we can change or modify it re-assignment is possible."
   ]
  },
  {
   "cell_type": "code",
   "execution_count": 20,
   "id": "fe7a8e6a",
   "metadata": {},
   "outputs": [],
   "source": [
    "tupple_2 = (1,2,3,4,5)"
   ]
  },
  {
   "cell_type": "code",
   "execution_count": null,
   "id": "151bde05",
   "metadata": {},
   "outputs": [],
   "source": []
  },
  {
   "cell_type": "code",
   "execution_count": 25,
   "id": "22ba665d",
   "metadata": {},
   "outputs": [
    {
     "data": {
      "text/plain": [
       "(1, 2, 3, 4, 5, 6, 7, 8, 9, 10)"
      ]
     },
     "execution_count": 25,
     "metadata": {},
     "output_type": "execute_result"
    }
   ],
   "source": [
    "# Concentanation in tupple\n",
    "tupple_1 = (1,2,3,4,5)\n",
    "tupple_2 = (6,7,8,9,10)\n",
    "tupple_1 = tupple_1 + tupple_2\n",
    "tupple_1\n",
    "\n"
   ]
  },
  {
   "cell_type": "code",
   "execution_count": 27,
   "id": "973e7fc4",
   "metadata": {},
   "outputs": [
    {
     "data": {
      "text/plain": [
       "(6, 7, 8, 9, 10, 6, 7, 8, 9, 10)"
      ]
     },
     "execution_count": 27,
     "metadata": {},
     "output_type": "execute_result"
    }
   ],
   "source": [
    "#Multiplication\n",
    "tupple_2 = tupple_2*2\n",
    "tupple_2"
   ]
  },
  {
   "cell_type": "code",
   "execution_count": 39,
   "id": "b5a63bf9",
   "metadata": {},
   "outputs": [
    {
     "data": {
      "text/plain": [
       "5"
      ]
     },
     "execution_count": 39,
     "metadata": {},
     "output_type": "execute_result"
    }
   ],
   "source": [
    "# Count()\n",
    "a = 'aaaaabkjhfdjkhfkjhgkjbgkndkn'\n",
    "tupple_ = tuple(a)\n",
    "tupple_.count('a')"
   ]
  },
  {
   "cell_type": "code",
   "execution_count": 40,
   "id": "e369f353",
   "metadata": {},
   "outputs": [
    {
     "data": {
      "text/plain": [
       "(1, 2, 3, 4, 5, 6, 7)"
      ]
     },
     "execution_count": 40,
     "metadata": {},
     "output_type": "execute_result"
    }
   ],
   "source": [
    "old = (1,2,3,4,5)\n",
    "new = (6,7)\n",
    "old = old + new\n",
    "old"
   ]
  },
  {
   "cell_type": "markdown",
   "id": "473db164",
   "metadata": {},
   "source": [
    "What are tghe advantages of tuple over a list ?\n",
    "==> since tuple are similar to list, both of them are used in similar situations but there are certain advantages of implementing  a tuple over a list.\n",
    " --> Since tuples are immutable, iterating through a tuple is faster that with list. So there is a slight performance boost.\n",
    "  --> If you want to get data sewcurity it means you have the data  that doesn't change, implemanting it as a tuple is better and it provides better data security."
   ]
  },
  {
   "cell_type": "code",
   "execution_count": null,
   "id": "67a9b20c",
   "metadata": {},
   "outputs": [],
   "source": []
  }
 ],
 "metadata": {
  "kernelspec": {
   "display_name": "Python 3 (ipykernel)",
   "language": "python",
   "name": "python3"
  },
  "language_info": {
   "codemirror_mode": {
    "name": "ipython",
    "version": 3
   },
   "file_extension": ".py",
   "mimetype": "text/x-python",
   "name": "python",
   "nbconvert_exporter": "python",
   "pygments_lexer": "ipython3",
   "version": "3.10.9"
  }
 },
 "nbformat": 4,
 "nbformat_minor": 5
}

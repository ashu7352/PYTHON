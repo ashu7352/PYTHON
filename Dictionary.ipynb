{
 "cells": [
  {
   "cell_type": "markdown",
   "id": "dc6bf217",
   "metadata": {},
   "source": [
    "# Dictionary {}\n",
    "   --> Dictionary are used for storing data in key value pair, keys are uniqe elements while values can be duplicate.\n",
    "\n",
    "   --> Only immutable datatypes can become the key  for a dictionary while you can use any datatypes for its value.\n",
    "   --> dictionary are ordered and it do not allow duplicate keys."
   ]
  },
  {
   "cell_type": "code",
   "execution_count": 20,
   "id": "9abf67ed",
   "metadata": {},
   "outputs": [
    {
     "name": "stdout",
     "output_type": "stream",
     "text": [
      "<class 'dict'>\n"
     ]
    },
    {
     "data": {
      "text/plain": [
       "{1: 'One',\n",
       " 4.0: 'for',\n",
       " 'Three': 3,\n",
       " (1, 2, 3, 4): 10,\n",
       " (10, 20, 30): [40, 50, 60]}"
      ]
     },
     "execution_count": 20,
     "metadata": {},
     "output_type": "execute_result"
    }
   ],
   "source": [
    "dict_1 = {\n",
    "    1:\"One\",\n",
    "    4.0 : \"Four\",\n",
    "    \"Three\" : 3,\n",
    "    (1,2,3,4) : 10,\n",
    "    (10,20,30) : [40,50,60],\n",
    "    4.0 : \"for\"\n",
    "}\n",
    "print(type(dict_1))\n",
    "dict_1"
   ]
  },
  {
   "cell_type": "code",
   "execution_count": 5,
   "id": "bd954014",
   "metadata": {},
   "outputs": [
    {
     "name": "stdout",
     "output_type": "stream",
     "text": [
      "{}\n"
     ]
    }
   ],
   "source": [
    "# Defining a dictionary\n",
    "empty_dict = {}       # deifine empty dictionary\n",
    "print(empty_dict)"
   ]
  },
  {
   "cell_type": "code",
   "execution_count": 6,
   "id": "36be7316",
   "metadata": {},
   "outputs": [],
   "source": [
    "#Defining dictionary with values\n",
    "dict_1 = {\n",
    "    1:\"One\",\n",
    "    4.0 : \"Four\",\n",
    "    \"Three\" : 3,\n",
    "    (1,2,3,4) : 10,\n",
    "    (10,20,30) : [40,50,60],\n",
    "    4.0 : \"for\"\n",
    "}"
   ]
  },
  {
   "cell_type": "code",
   "execution_count": 8,
   "id": "f19291e9",
   "metadata": {},
   "outputs": [
    {
     "data": {
      "text/plain": [
       "{}"
      ]
     },
     "execution_count": 8,
     "metadata": {},
     "output_type": "execute_result"
    }
   ],
   "source": [
    "dict_3 = dict()      # Using a constructor\n",
    "dict_3"
   ]
  },
  {
   "cell_type": "markdown",
   "id": "fe992b5c",
   "metadata": {},
   "source": [
    "ACcessing elements from dictionary:-\n",
    "   You can access the valus using keys in dictionary, if the key is not present so it raise key error.\n",
    "   --> Using get() method also we can get thevalues for their respective key."
   ]
  },
  {
   "cell_type": "code",
   "execution_count": 10,
   "id": "1df56fae",
   "metadata": {},
   "outputs": [
    {
     "data": {
      "text/plain": [
       "10"
      ]
     },
     "execution_count": 10,
     "metadata": {},
     "output_type": "execute_result"
    }
   ],
   "source": [
    "dict_1[(1,2,3,4)]"
   ]
  },
  {
   "cell_type": "code",
   "execution_count": 14,
   "id": "657b0d48",
   "metadata": {},
   "outputs": [
    {
     "ename": "KeyError",
     "evalue": "8.0",
     "output_type": "error",
     "traceback": [
      "\u001b[1;31m---------------------------------------------------------------------------\u001b[0m",
      "\u001b[1;31mKeyError\u001b[0m                                  Traceback (most recent call last)",
      "Cell \u001b[1;32mIn[14], line 1\u001b[0m\n\u001b[1;32m----> 1\u001b[0m \u001b[43mdict_1\u001b[49m\u001b[43m[\u001b[49m\u001b[38;5;241;43m8.0\u001b[39;49m\u001b[43m]\u001b[49m\n",
      "\u001b[1;31mKeyError\u001b[0m: 8.0"
     ]
    }
   ],
   "source": [
    "dict_1[8.0]"
   ]
  },
  {
   "cell_type": "code",
   "execution_count": 15,
   "id": "3dee4ba4",
   "metadata": {},
   "outputs": [
    {
     "data": {
      "text/plain": [
       "'One'"
      ]
     },
     "execution_count": 15,
     "metadata": {},
     "output_type": "execute_result"
    }
   ],
   "source": [
    "dict_1.get(1)"
   ]
  },
  {
   "cell_type": "markdown",
   "id": "464898f7",
   "metadata": {},
   "source": [
    "Modify and add new elements in dictionary:-\n"
   ]
  },
  {
   "cell_type": "code",
   "execution_count": 2,
   "id": "4299952c",
   "metadata": {},
   "outputs": [
    {
     "name": "stdout",
     "output_type": "stream",
     "text": [
      "<class 'dict'>\n"
     ]
    },
    {
     "data": {
      "text/plain": [
       "{1: 'One',\n",
       " 4.0: 'for',\n",
       " 'Three': 3,\n",
       " (1, 2, 3, 4): 10,\n",
       " (10, 20, 30): [40, 50, 60]}"
      ]
     },
     "execution_count": 2,
     "metadata": {},
     "output_type": "execute_result"
    }
   ],
   "source": [
    "dict_1 = {\n",
    "    1:\"One\",\n",
    "    4.0 : \"Four\",\n",
    "    \"Three\" : 3,\n",
    "    (1,2,3,4) : 10,\n",
    "    (10,20,30) : [40,50,60],\n",
    "    4.0 : \"for\"\n",
    "}\n",
    "print(type(dict_1))\n",
    "dict_1"
   ]
  },
  {
   "cell_type": "code",
   "execution_count": 15,
   "id": "cdaad2ca",
   "metadata": {},
   "outputs": [
    {
     "data": {
      "text/plain": [
       "{1: 'One',\n",
       " 4.0: 'four',\n",
       " (1, 2, 3, 4): 10,\n",
       " (10, 20, 30): [40, 50, 60],\n",
       " 'topic': 'Datatypes'}"
      ]
     },
     "execution_count": 15,
     "metadata": {},
     "output_type": "execute_result"
    }
   ],
   "source": [
    "dict_1"
   ]
  },
  {
   "cell_type": "code",
   "execution_count": 9,
   "id": "098942ff",
   "metadata": {},
   "outputs": [],
   "source": [
    "dict_1[0] = \"four\"    #adding new key value pair in dictionary"
   ]
  },
  {
   "cell_type": "code",
   "execution_count": 5,
   "id": "b0595e7b",
   "metadata": {},
   "outputs": [],
   "source": [
    "dict_1[\"topic\"] = \"Datatypes\""
   ]
  },
  {
   "cell_type": "code",
   "execution_count": 12,
   "id": "72873041",
   "metadata": {},
   "outputs": [
    {
     "data": {
      "text/plain": [
       "3"
      ]
     },
     "execution_count": 12,
     "metadata": {},
     "output_type": "execute_result"
    }
   ],
   "source": [
    "# Removing the elements from the dictionary\n",
    "#pop(key)-- it removes specific key value pair, take 1 arguments that is the key.\n",
    "dict_1.pop(\"Three\")\n"
   ]
  },
  {
   "cell_type": "code",
   "execution_count": 14,
   "id": "22fec1c9",
   "metadata": {},
   "outputs": [
    {
     "data": {
      "text/plain": [
       "(0, 'four')"
      ]
     },
     "execution_count": 14,
     "metadata": {},
     "output_type": "execute_result"
    }
   ],
   "source": [
    "#popitem()- It removes the last key value pair from the dictionary.\n",
    "dict_1.popitem()"
   ]
  },
  {
   "cell_type": "code",
   "execution_count": 18,
   "id": "109cb3ed",
   "metadata": {},
   "outputs": [],
   "source": [
    "#clear()- It removes all the items from the dictionary.\n",
    "dict_1.clear()"
   ]
  },
  {
   "cell_type": "code",
   "execution_count": 19,
   "id": "341cb982",
   "metadata": {},
   "outputs": [
    {
     "data": {
      "text/plain": [
       "{}"
      ]
     },
     "execution_count": 19,
     "metadata": {},
     "output_type": "execute_result"
    }
   ],
   "source": [
    "dict_1"
   ]
  },
  {
   "cell_type": "code",
   "execution_count": 29,
   "id": "ae92afd4",
   "metadata": {},
   "outputs": [
    {
     "data": {
      "text/plain": [
       "{1: 'change value',\n",
       " 4.0: 'for',\n",
       " 'Three': 3,\n",
       " (1, 2, 3, 4): 10,\n",
       " (10, 20, 30): [40, 50, 60]}"
      ]
     },
     "execution_count": 29,
     "metadata": {},
     "output_type": "execute_result"
    }
   ],
   "source": [
    "dict_1"
   ]
  },
  {
   "cell_type": "code",
   "execution_count": 22,
   "id": "8329d8b0",
   "metadata": {},
   "outputs": [],
   "source": [
    "dict_2 = dict_1.copy() #It creates a deep copy"
   ]
  },
  {
   "cell_type": "code",
   "execution_count": 40,
   "id": "29bac772",
   "metadata": {},
   "outputs": [
    {
     "data": {
      "text/plain": [
       "{1: 'first pair',\n",
       " 4.0: 'for',\n",
       " 'Three': 3,\n",
       " (1, 2, 3, 4): 10,\n",
       " (10, 20, 30): [40, 50, 60]}"
      ]
     },
     "execution_count": 40,
     "metadata": {},
     "output_type": "execute_result"
    }
   ],
   "source": [
    "dict_2"
   ]
  },
  {
   "cell_type": "code",
   "execution_count": 24,
   "id": "8093907b",
   "metadata": {},
   "outputs": [],
   "source": [
    "dict_2[1] = \"first pair\""
   ]
  },
  {
   "cell_type": "code",
   "execution_count": 25,
   "id": "14be9efe",
   "metadata": {},
   "outputs": [],
   "source": [
    "dict_3 = dict_1   #It creates a shallow copy."
   ]
  },
  {
   "cell_type": "code",
   "execution_count": 28,
   "id": "231d7f40",
   "metadata": {},
   "outputs": [],
   "source": [
    "dict_3[1] = \"change value\""
   ]
  },
  {
   "cell_type": "code",
   "execution_count": 31,
   "id": "3a177337",
   "metadata": {},
   "outputs": [
    {
     "data": {
      "text/plain": [
       "['hosjf', 'bat', 'c']"
      ]
     },
     "execution_count": 31,
     "metadata": {},
     "output_type": "execute_result"
    }
   ],
   "source": [
    "lst1 = ['a', 'b', 'c']\n",
    "lst2 = lst1\n",
    "lst1[0] = \"hosjf\"\n",
    "lst2[1] = \"bat\"\n",
    "lst1"
   ]
  },
  {
   "cell_type": "code",
   "execution_count": 32,
   "id": "f1481d9e",
   "metadata": {},
   "outputs": [
    {
     "name": "stdout",
     "output_type": "stream",
     "text": [
      "1-----first pair\n",
      "4.0-----for\n",
      "Three-----3\n",
      "(1, 2, 3, 4)-----10\n",
      "(10, 20, 30)-----[40, 50, 60]\n"
     ]
    }
   ],
   "source": [
    "# Iterating all the elements of dictionary\n",
    "for i,j in dict_2.items():\n",
    "    print(i, end = \"-----\")\n",
    "    print(j)"
   ]
  },
  {
   "cell_type": "code",
   "execution_count": 36,
   "id": "491bdf78",
   "metadata": {},
   "outputs": [
    {
     "data": {
      "text/plain": [
       "[1, 4.0, 'Three', (1, 2, 3, 4), (10, 20, 30)]"
      ]
     },
     "execution_count": 36,
     "metadata": {},
     "output_type": "execute_result"
    }
   ],
   "source": [
    "# keys() - it is used to get list of all the keys present in the dictionary.\n",
    "lst_key =list(dict_2.keys())\n",
    "lst_key\n",
    "# Type(lst_key)"
   ]
  },
  {
   "cell_type": "code",
   "execution_count": 38,
   "id": "cd34e55a",
   "metadata": {},
   "outputs": [
    {
     "data": {
      "text/plain": [
       "['first pair', 'for', 3, 10, [40, 50, 60]]"
      ]
     },
     "execution_count": 38,
     "metadata": {},
     "output_type": "execute_result"
    }
   ],
   "source": [
    "# values() - It is used to get the list of all the values present in the dictionary.\n",
    "lst_values = list(dict_2.values())\n",
    "lst_values"
   ]
  },
  {
   "cell_type": "code",
   "execution_count": 42,
   "id": "895cc35d",
   "metadata": {},
   "outputs": [
    {
     "data": {
      "text/plain": [
       "{1: 'first pair',\n",
       " 4.0: 'for',\n",
       " 'Three': 3,\n",
       " (1, 2, 3, 4): 10,\n",
       " (10, 20, 30): [40, 50, 60]}"
      ]
     },
     "execution_count": 42,
     "metadata": {},
     "output_type": "execute_result"
    }
   ],
   "source": [
    "# update() - It adds elements of other dictyionary to the current dictionary.\n",
    "dict_2"
   ]
  },
  {
   "cell_type": "code",
   "execution_count": 44,
   "id": "b83f310c",
   "metadata": {},
   "outputs": [
    {
     "data": {
      "text/plain": [
       "{'class': 'python',\n",
       " 'topic': 'datatyopes',\n",
       " 'session': 5,\n",
       " 1: 'first pair',\n",
       " 4.0: 'for',\n",
       " 'Three': 3,\n",
       " (1, 2, 3, 4): 10,\n",
       " (10, 20, 30): [40, 50, 60]}"
      ]
     },
     "execution_count": 44,
     "metadata": {},
     "output_type": "execute_result"
    }
   ],
   "source": [
    "dict_3 = {\"class\" : \"python\", \"topic\" : \"datatyopes\", \"session\" : 5}\n",
    "dict_3.update(dict_2)\n",
    "dict_3"
   ]
  },
  {
   "cell_type": "markdown",
   "id": "4fda9719",
   "metadata": {},
   "source": [
    "Write a Python script to print a dictionary where the keys are numbers between 1 and 15 (both included) and the values are the square of the keys."
   ]
  },
  {
   "cell_type": "code",
   "execution_count": 49,
   "id": "f440d39d",
   "metadata": {},
   "outputs": [
    {
     "data": {
      "text/plain": [
       "{1: 1,\n",
       " 2: 4,\n",
       " 3: 9,\n",
       " 4: 16,\n",
       " 5: 25,\n",
       " 6: 36,\n",
       " 7: 49,\n",
       " 8: 64,\n",
       " 9: 81,\n",
       " 10: 100,\n",
       " 11: 121,\n",
       " 12: 144,\n",
       " 13: 169,\n",
       " 14: 196,\n",
       " 15: 225}"
      ]
     },
     "execution_count": 49,
     "metadata": {},
     "output_type": "execute_result"
    }
   ],
   "source": [
    "dict_1=dict()\n",
    "for i in range(1,16):\n",
    "    dict_1[i]=i**2\n",
    "\n",
    "dict_1  \n"
   ]
  },
  {
   "cell_type": "code",
   "execution_count": 47,
   "id": "77d1fe28",
   "metadata": {},
   "outputs": [
    {
     "name": "stdout",
     "output_type": "stream",
     "text": [
      "Please enter the Maximum Number : 16\n",
      "\n",
      "Dictionary =  {1: 1, 2: 4, 3: 9, 4: 16, 5: 25, 6: 36, 7: 49, 8: 64, 9: 81, 10: 100, 11: 121, 12: 144, 13: 169, 14: 196, 15: 225, 16: 256}\n"
     ]
    }
   ],
   "source": [
    "number = int(input(\"Please enter the Maximum Number : \"))\n",
    "myDict = {}\n",
    "\n",
    "for x in range(1, number + 1):\n",
    "    myDict[x] = x ** 2\n",
    "    \n",
    "print(\"\\nDictionary = \", myDict)"
   ]
  },
  {
   "cell_type": "code",
   "execution_count": 48,
   "id": "3e52f31f",
   "metadata": {},
   "outputs": [
    {
     "name": "stdout",
     "output_type": "stream",
     "text": [
      "Please enter the Maximum Number : 16\n",
      "\n",
      "Dictionary =  {1: 1, 2: 4, 3: 9, 4: 16, 5: 25, 6: 36, 7: 49, 8: 64, 9: 81, 10: 100, 11: 121, 12: 144, 13: 169, 14: 196, 15: 225, 16: 256}\n"
     ]
    }
   ],
   "source": [
    "number = int(input(\"Please enter the Maximum Number : \"))\n",
    "\n",
    "myDict = {x:x ** 2 for x in range(1, number + 1)}\n",
    "    \n",
    "print(\"\\nDictionary = \", myDict)"
   ]
  },
  {
   "cell_type": "code",
   "execution_count": null,
   "id": "aee428c3",
   "metadata": {},
   "outputs": [],
   "source": []
  }
 ],
 "metadata": {
  "kernelspec": {
   "display_name": "Python 3 (ipykernel)",
   "language": "python",
   "name": "python3"
  },
  "language_info": {
   "codemirror_mode": {
    "name": "ipython",
    "version": 3
   },
   "file_extension": ".py",
   "mimetype": "text/x-python",
   "name": "python",
   "nbconvert_exporter": "python",
   "pygments_lexer": "ipython3",
   "version": "3.10.9"
  }
 },
 "nbformat": 4,
 "nbformat_minor": 5
}

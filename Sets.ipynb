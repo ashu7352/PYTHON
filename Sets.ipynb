{
 "cells": [
  {
   "cell_type": "markdown",
   "id": "40e38b99",
   "metadata": {},
   "source": [
    "# Python Sets \n",
    "Sets are a collection of elements. sets are unordered therefore imdexing and slicing is not applicable.\n",
    "  -It is defined using {} , It does not allow duplicates.\n",
    "     It can have only immutable datatypes in it.\n",
    "      sets are mutable, we can add or remove items from it.\n",
    "       sets can also be used to perform mathematical set operations like union and interesection."
   ]
  },
  {
   "cell_type": "code",
   "execution_count": 4,
   "id": "0edf57ac",
   "metadata": {},
   "outputs": [
    {
     "data": {
      "text/plain": [
       "set"
      ]
     },
     "execution_count": 4,
     "metadata": {},
     "output_type": "execute_result"
    }
   ],
   "source": [
    "#Defining a set\n",
    "sets = {1,2,3,4,5,5,6,(1,2,3,4)}\n",
    "type(sets)"
   ]
  },
  {
   "cell_type": "code",
   "execution_count": 7,
   "id": "6dbaf924",
   "metadata": {},
   "outputs": [
    {
     "data": {
      "text/plain": [
       "set"
      ]
     },
     "execution_count": 7,
     "metadata": {},
     "output_type": "execute_result"
    }
   ],
   "source": [
    "# Defining an empty set\n",
    "set2 = set()\n",
    "set2\n",
    "type(set2)"
   ]
  },
  {
   "cell_type": "code",
   "execution_count": 26,
   "id": "08808311",
   "metadata": {},
   "outputs": [
    {
     "name": "stdout",
     "output_type": "stream",
     "text": [
      "{1, 2, 3, 4, 5, 6, 7, 8, 9}\n"
     ]
    }
   ],
   "source": [
    "# sets do not allowduplicates values.\n",
    "sets = {1,2,3,3,4,5,5,6,7,7,7,8,9}\n",
    "print(sets)"
   ]
  },
  {
   "cell_type": "code",
   "execution_count": 10,
   "id": "482b9af5",
   "metadata": {},
   "outputs": [
    {
     "ename": "TypeError",
     "evalue": "'set' object is not subscriptable",
     "output_type": "error",
     "traceback": [
      "\u001b[1;31m---------------------------------------------------------------------------\u001b[0m",
      "\u001b[1;31mTypeError\u001b[0m                                 Traceback (most recent call last)",
      "Cell \u001b[1;32mIn[10], line 2\u001b[0m\n\u001b[0;32m      1\u001b[0m \u001b[38;5;66;03m#sets are unordered, we ccannot do indexing in sets\u001b[39;00m\n\u001b[1;32m----> 2\u001b[0m \u001b[43msets\u001b[49m\u001b[43m[\u001b[49m\u001b[38;5;241;43m2\u001b[39;49m\u001b[43m]\u001b[49m\n",
      "\u001b[1;31mTypeError\u001b[0m: 'set' object is not subscriptable"
     ]
    }
   ],
   "source": [
    "#sets are unordered, we ccannot do indexing in sets\n",
    "sets[2]"
   ]
  },
  {
   "cell_type": "code",
   "execution_count": 11,
   "id": "bcfcda33",
   "metadata": {},
   "outputs": [
    {
     "ename": "TypeError",
     "evalue": "'set' object is not subscriptable",
     "output_type": "error",
     "traceback": [
      "\u001b[1;31m---------------------------------------------------------------------------\u001b[0m",
      "\u001b[1;31mTypeError\u001b[0m                                 Traceback (most recent call last)",
      "Cell \u001b[1;32mIn[11], line 2\u001b[0m\n\u001b[0;32m      1\u001b[0m \u001b[38;5;66;03m#sets are unordered, we ccannot do slicing in sets\u001b[39;00m\n\u001b[1;32m----> 2\u001b[0m \u001b[43msets\u001b[49m\u001b[43m[\u001b[49m\u001b[38;5;241;43m1\u001b[39;49m\u001b[43m:\u001b[49m\u001b[38;5;241;43m4\u001b[39;49m\u001b[43m]\u001b[49m\n",
      "\u001b[1;31mTypeError\u001b[0m: 'set' object is not subscriptable"
     ]
    }
   ],
   "source": [
    "#sets are unordered, we ccannot do slicing in sets\n",
    "sets[1:4]"
   ]
  },
  {
   "cell_type": "markdown",
   "id": "533434e4",
   "metadata": {},
   "source": [
    "# Modifdying a sets in Python:\n",
    "we cannot access or modify an elements in a set using indexing. but we can add a single elements using the add() method, and we can add multiple elements using update method."
   ]
  },
  {
   "cell_type": "code",
   "execution_count": 12,
   "id": "0462041c",
   "metadata": {},
   "outputs": [
    {
     "data": {
      "text/plain": [
       "{1, 2, 3, 4, 5, 6, 7, 8, 9, 12}"
      ]
     },
     "execution_count": 12,
     "metadata": {},
     "output_type": "execute_result"
    }
   ],
   "source": [
    "sets.add(12)\n",
    "sets"
   ]
  },
  {
   "cell_type": "code",
   "execution_count": 18,
   "id": "62a0ed48",
   "metadata": {},
   "outputs": [
    {
     "data": {
      "text/plain": [
       "{1, 2, 3, 4, 5, 6, 7, 8, 9, 11, 12, 22, 33}"
      ]
     },
     "execution_count": 18,
     "metadata": {},
     "output_type": "execute_result"
    }
   ],
   "source": [
    "sets.update({11,22,33})\n",
    "sets"
   ]
  },
  {
   "cell_type": "code",
   "execution_count": 22,
   "id": "d77a14a7",
   "metadata": {},
   "outputs": [
    {
     "ename": "KeyError",
     "evalue": "1",
     "output_type": "error",
     "traceback": [
      "\u001b[1;31m---------------------------------------------------------------------------\u001b[0m",
      "\u001b[1;31mKeyError\u001b[0m                                  Traceback (most recent call last)",
      "Cell \u001b[1;32mIn[22], line 2\u001b[0m\n\u001b[0;32m      1\u001b[0m \u001b[38;5;66;03m# Removing an elements from the set.\u001b[39;00m\n\u001b[1;32m----> 2\u001b[0m \u001b[43msets\u001b[49m\u001b[38;5;241;43m.\u001b[39;49m\u001b[43mremove\u001b[49m\u001b[43m(\u001b[49m\u001b[38;5;241;43m1\u001b[39;49m\u001b[43m)\u001b[49m\n\u001b[0;32m      3\u001b[0m sets\n",
      "\u001b[1;31mKeyError\u001b[0m: 1"
     ]
    }
   ],
   "source": [
    "# Removing an elements from the set.\n",
    "sets.remove(1)\n",
    "sets"
   ]
  },
  {
   "cell_type": "code",
   "execution_count": 23,
   "id": "b3d24593",
   "metadata": {},
   "outputs": [
    {
     "data": {
      "text/plain": [
       "{3, 4, 5, 6, 7, 8, 9, 11, 12, 22, 33}"
      ]
     },
     "execution_count": 23,
     "metadata": {},
     "output_type": "execute_result"
    }
   ],
   "source": [
    "# Removing an elements from the set.\n",
    "sets.discard(2)\n",
    "sets"
   ]
  },
  {
   "cell_type": "code",
   "execution_count": 24,
   "id": "f18b5c2d",
   "metadata": {},
   "outputs": [],
   "source": [
    "sets.clear()      # Used to make a set empty"
   ]
  },
  {
   "cell_type": "code",
   "execution_count": 25,
   "id": "42edf34c",
   "metadata": {},
   "outputs": [
    {
     "data": {
      "text/plain": [
       "set()"
      ]
     },
     "execution_count": 25,
     "metadata": {},
     "output_type": "execute_result"
    }
   ],
   "source": [
    "sets"
   ]
  },
  {
   "cell_type": "code",
   "execution_count": 27,
   "id": "eef0bed1",
   "metadata": {},
   "outputs": [
    {
     "data": {
      "text/plain": [
       "1"
      ]
     },
     "execution_count": 27,
     "metadata": {},
     "output_type": "execute_result"
    }
   ],
   "source": [
    "sets.pop()   # Removes the first elements"
   ]
  },
  {
   "cell_type": "code",
   "execution_count": 28,
   "id": "a4e5c750",
   "metadata": {},
   "outputs": [
    {
     "data": {
      "text/plain": [
       "{2, 3, 4, 5, 6, 7, 8, 9}"
      ]
     },
     "execution_count": 28,
     "metadata": {},
     "output_type": "execute_result"
    }
   ],
   "source": [
    "sets"
   ]
  },
  {
   "cell_type": "code",
   "execution_count": 30,
   "id": "333be0bf",
   "metadata": {},
   "outputs": [
    {
     "data": {
      "text/plain": [
       "{1, 2, 3, 4, 5, 6, 7, 8}"
      ]
     },
     "execution_count": 30,
     "metadata": {},
     "output_type": "execute_result"
    }
   ],
   "source": [
    "# Union of two sets\n",
    "set1 = {1,2,3,4,5}\n",
    "set2 = {4,5,6,7,8}\n",
    "# set1 | set2\n",
    "set2.union(set1)"
   ]
  },
  {
   "cell_type": "code",
   "execution_count": 32,
   "id": "6703c7aa",
   "metadata": {},
   "outputs": [
    {
     "data": {
      "text/plain": [
       "{4, 5}"
      ]
     },
     "execution_count": 32,
     "metadata": {},
     "output_type": "execute_result"
    }
   ],
   "source": [
    "#Intersection of two sets\n",
    "set1 = {1,2,3,4,5}\n",
    "set2 = {4,5,6,7,8}\n",
    "# set1.intersection(set2)\n",
    "set1 & set2"
   ]
  },
  {
   "cell_type": "code",
   "execution_count": 36,
   "id": "3fb27977",
   "metadata": {},
   "outputs": [
    {
     "data": {
      "text/plain": [
       "{1, 2, 3}"
      ]
     },
     "execution_count": 36,
     "metadata": {},
     "output_type": "execute_result"
    }
   ],
   "source": [
    "# Set difference\n",
    "set1 = {1,2,3,4,5}\n",
    "set2 = {4,5,6,7,8}\n",
    "set1 - set2"
   ]
  },
  {
   "cell_type": "code",
   "execution_count": 37,
   "id": "23a9f9b0",
   "metadata": {},
   "outputs": [
    {
     "data": {
      "text/plain": [
       "{6, 7, 8}"
      ]
     },
     "execution_count": 37,
     "metadata": {},
     "output_type": "execute_result"
    }
   ],
   "source": [
    "# Set difference\n",
    "set1 = {1,2,3,4,5}\n",
    "set2 = {4,5,6,7,8}\n",
    "set2 - set1"
   ]
  },
  {
   "cell_type": "code",
   "execution_count": 38,
   "id": "cd065349",
   "metadata": {},
   "outputs": [
    {
     "data": {
      "text/plain": [
       "{1, 2, 3, 6, 7, 8}"
      ]
     },
     "execution_count": 38,
     "metadata": {},
     "output_type": "execute_result"
    }
   ],
   "source": [
    "# symmetric difference between two sets\n",
    "set1 = {1,2,3,4,5}\n",
    "set2 = {4,5,6,7,8}\n",
    "set1 ^ set2"
   ]
  },
  {
   "cell_type": "code",
   "execution_count": null,
   "id": "3b8e7489",
   "metadata": {},
   "outputs": [],
   "source": []
  }
 ],
 "metadata": {
  "kernelspec": {
   "display_name": "Python 3 (ipykernel)",
   "language": "python",
   "name": "python3"
  },
  "language_info": {
   "codemirror_mode": {
    "name": "ipython",
    "version": 3
   },
   "file_extension": ".py",
   "mimetype": "text/x-python",
   "name": "python",
   "nbconvert_exporter": "python",
   "pygments_lexer": "ipython3",
   "version": "3.10.9"
  }
 },
 "nbformat": 4,
 "nbformat_minor": 5
}
